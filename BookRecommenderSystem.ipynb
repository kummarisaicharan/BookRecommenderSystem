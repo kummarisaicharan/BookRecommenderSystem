{
  "nbformat": 4,
  "nbformat_minor": 0,
  "metadata": {
    "colab": {
      "name": "testing.ipynb",
      "provenance": []
    },
    "kernelspec": {
      "name": "python3",
      "display_name": "Python 3"
    }
  },
  "cells": [
    {
      "cell_type": "code",
      "metadata": {
        "id": "sfIBmdoc0te1",
        "colab_type": "code",
        "colab": {
          "base_uri": "https://localhost:8080/",
          "height": 125
        },
        "outputId": "08eb6eb0-cfe4-4475-c7c8-de92e2c4ea1a"
      },
      "source": [
        "# Mounting the google drive for easy access of the dataset \n",
        "from google.colab import drive\n",
        "drive.mount('/content/drive')"
      ],
      "execution_count": 9,
      "outputs": [
        {
          "output_type": "stream",
          "text": [
            "Go to this URL in a browser: https://accounts.google.com/o/oauth2/auth?client_id=947318989803-6bn6qk8qdgf4n4g3pfee6491hc0brc4i.apps.googleusercontent.com&redirect_uri=urn%3aietf%3awg%3aoauth%3a2.0%3aoob&scope=email%20https%3a%2f%2fwww.googleapis.com%2fauth%2fdocs.test%20https%3a%2f%2fwww.googleapis.com%2fauth%2fdrive%20https%3a%2f%2fwww.googleapis.com%2fauth%2fdrive.photos.readonly%20https%3a%2f%2fwww.googleapis.com%2fauth%2fpeopleapi.readonly&response_type=code\n",
            "\n",
            "Enter your authorization code:\n",
            "4/4AFgulcjvYhKCTBnknCKRwpN9vn2y8dB3vcKgSyuKubYF8GNIG6-Ovs\n",
            "Mounted at /content/drive\n"
          ],
          "name": "stdout"
        }
      ]
    },
    {
      "cell_type": "code",
      "metadata": {
        "id": "pzEFQCPWGRG2",
        "colab_type": "code",
        "colab": {}
      },
      "source": [
        "# Path for Java\n",
        "JAVA_HOME = \"/usr/lib/jvm/java-8-openjdk-amd64\""
      ],
      "execution_count": 1,
      "outputs": []
    },
    {
      "cell_type": "code",
      "metadata": {
        "id": "uSWIo_ZgG11h",
        "colab_type": "code",
        "colab": {
          "base_uri": "https://localhost:8080/",
          "height": 914
        },
        "outputId": "f2581d46-e7d3-449a-dcab-5457723fe906"
      },
      "source": [
        "!pip install pyspark\n",
        "!pip install -U -q PyDrive\n",
        "!apt install openjdk-8-jdk-headless -qq\n",
        "import os\n",
        "os.environ[\"JAVA_HOME\"] = JAVA_HOME"
      ],
      "execution_count": 2,
      "outputs": [
        {
          "output_type": "stream",
          "text": [
            "Collecting pyspark\n",
            "\u001b[?25l  Downloading https://files.pythonhosted.org/packages/f0/26/198fc8c0b98580f617cb03cb298c6056587b8f0447e20fa40c5b634ced77/pyspark-3.0.1.tar.gz (204.2MB)\n",
            "\u001b[K     |████████████████████████████████| 204.2MB 66kB/s \n",
            "\u001b[?25hCollecting py4j==0.10.9\n",
            "\u001b[?25l  Downloading https://files.pythonhosted.org/packages/9e/b6/6a4fb90cd235dc8e265a6a2067f2a2c99f0d91787f06aca4bcf7c23f3f80/py4j-0.10.9-py2.py3-none-any.whl (198kB)\n",
            "\u001b[K     |████████████████████████████████| 204kB 41.2MB/s \n",
            "\u001b[?25hBuilding wheels for collected packages: pyspark\n",
            "  Building wheel for pyspark (setup.py) ... \u001b[?25l\u001b[?25hdone\n",
            "  Created wheel for pyspark: filename=pyspark-3.0.1-py2.py3-none-any.whl size=204612243 sha256=020e73b889b94825301a773d2a451e366cc1c929e15756f535eb1ea5f89b2d24\n",
            "  Stored in directory: /root/.cache/pip/wheels/5e/bd/07/031766ca628adec8435bb40f0bd83bb676ce65ff4007f8e73f\n",
            "Successfully built pyspark\n",
            "Installing collected packages: py4j, pyspark\n",
            "Successfully installed py4j-0.10.9 pyspark-3.0.1\n",
            "The following package was automatically installed and is no longer required:\n",
            "  libnvidia-common-440\n",
            "Use 'apt autoremove' to remove it.\n",
            "The following additional packages will be installed:\n",
            "  openjdk-8-jre-headless\n",
            "Suggested packages:\n",
            "  openjdk-8-demo openjdk-8-source libnss-mdns fonts-dejavu-extra\n",
            "  fonts-ipafont-gothic fonts-ipafont-mincho fonts-wqy-microhei\n",
            "  fonts-wqy-zenhei fonts-indic\n",
            "The following NEW packages will be installed:\n",
            "  openjdk-8-jdk-headless openjdk-8-jre-headless\n",
            "0 upgraded, 2 newly installed, 0 to remove and 39 not upgraded.\n",
            "Need to get 35.8 MB of archives.\n",
            "After this operation, 140 MB of additional disk space will be used.\n",
            "Selecting previously unselected package openjdk-8-jre-headless:amd64.\n",
            "(Reading database ... 144579 files and directories currently installed.)\n",
            "Preparing to unpack .../openjdk-8-jre-headless_8u265-b01-0ubuntu2~18.04_amd64.deb ...\n",
            "Unpacking openjdk-8-jre-headless:amd64 (8u265-b01-0ubuntu2~18.04) ...\n",
            "Selecting previously unselected package openjdk-8-jdk-headless:amd64.\n",
            "Preparing to unpack .../openjdk-8-jdk-headless_8u265-b01-0ubuntu2~18.04_amd64.deb ...\n",
            "Unpacking openjdk-8-jdk-headless:amd64 (8u265-b01-0ubuntu2~18.04) ...\n",
            "Setting up openjdk-8-jre-headless:amd64 (8u265-b01-0ubuntu2~18.04) ...\n",
            "update-alternatives: using /usr/lib/jvm/java-8-openjdk-amd64/jre/bin/orbd to provide /usr/bin/orbd (orbd) in auto mode\n",
            "update-alternatives: using /usr/lib/jvm/java-8-openjdk-amd64/jre/bin/servertool to provide /usr/bin/servertool (servertool) in auto mode\n",
            "update-alternatives: using /usr/lib/jvm/java-8-openjdk-amd64/jre/bin/tnameserv to provide /usr/bin/tnameserv (tnameserv) in auto mode\n",
            "Setting up openjdk-8-jdk-headless:amd64 (8u265-b01-0ubuntu2~18.04) ...\n",
            "update-alternatives: using /usr/lib/jvm/java-8-openjdk-amd64/bin/idlj to provide /usr/bin/idlj (idlj) in auto mode\n",
            "update-alternatives: using /usr/lib/jvm/java-8-openjdk-amd64/bin/wsimport to provide /usr/bin/wsimport (wsimport) in auto mode\n",
            "update-alternatives: using /usr/lib/jvm/java-8-openjdk-amd64/bin/jsadebugd to provide /usr/bin/jsadebugd (jsadebugd) in auto mode\n",
            "update-alternatives: using /usr/lib/jvm/java-8-openjdk-amd64/bin/native2ascii to provide /usr/bin/native2ascii (native2ascii) in auto mode\n",
            "update-alternatives: using /usr/lib/jvm/java-8-openjdk-amd64/bin/javah to provide /usr/bin/javah (javah) in auto mode\n",
            "update-alternatives: using /usr/lib/jvm/java-8-openjdk-amd64/bin/clhsdb to provide /usr/bin/clhsdb (clhsdb) in auto mode\n",
            "update-alternatives: using /usr/lib/jvm/java-8-openjdk-amd64/bin/jhat to provide /usr/bin/jhat (jhat) in auto mode\n",
            "update-alternatives: using /usr/lib/jvm/java-8-openjdk-amd64/bin/extcheck to provide /usr/bin/extcheck (extcheck) in auto mode\n",
            "update-alternatives: using /usr/lib/jvm/java-8-openjdk-amd64/bin/hsdb to provide /usr/bin/hsdb (hsdb) in auto mode\n",
            "update-alternatives: using /usr/lib/jvm/java-8-openjdk-amd64/bin/schemagen to provide /usr/bin/schemagen (schemagen) in auto mode\n",
            "update-alternatives: using /usr/lib/jvm/java-8-openjdk-amd64/bin/xjc to provide /usr/bin/xjc (xjc) in auto mode\n",
            "update-alternatives: using /usr/lib/jvm/java-8-openjdk-amd64/bin/wsgen to provide /usr/bin/wsgen (wsgen) in auto mode\n"
          ],
          "name": "stdout"
        }
      ]
    },
    {
      "cell_type": "code",
      "metadata": {
        "id": "PWhOSVDxG3-g",
        "colab_type": "code",
        "colab": {
          "base_uri": "https://localhost:8080/",
          "height": 72
        },
        "outputId": "b7f5ff2b-b8f5-452d-f3cb-337d9128ff10"
      },
      "source": [
        "# Installing and importing the required python libraries\n",
        "import requests\n",
        "import numpy as np\n",
        "import pandas as pd\n",
        "import seaborn as sns\n",
        "import matplotlib.pyplot as plt\n",
        "import time\n",
        "%matplotlib inline\n",
        "\n",
        "import pyspark\n",
        "from pyspark.sql import *\n",
        "from pyspark.sql.types import *\n",
        "from pyspark.sql.functions import *\n",
        "from pyspark import SparkContext, SparkConf"
      ],
      "execution_count": 3,
      "outputs": [
        {
          "output_type": "stream",
          "text": [
            "/usr/local/lib/python3.6/dist-packages/statsmodels/tools/_testing.py:19: FutureWarning: pandas.util.testing is deprecated. Use the functions in the public API at pandas.testing instead.\n",
            "  import pandas.util.testing as tm\n"
          ],
          "name": "stderr"
        }
      ]
    },
    {
      "cell_type": "code",
      "metadata": {
        "id": "J28mkfbfG62H",
        "colab_type": "code",
        "colab": {}
      },
      "source": [
        "# import the SparkConfiguration and SparkContext\n",
        "# if we wanted to change any configuration settings for this session only we would define them here\n",
        "conf = (SparkConf()\n",
        "        .setMaster(\"local\")\n",
        "        .setAppName(\"Recommender_System\")\n",
        "        .set(\"spark.executor.memory\", \"16G\")\n",
        "        .set(\"spark.driver.memory\", \"16G\")\n",
        "        .set(\"spark.executor.cores\", \"8\"))\n",
        "# create a SparkContext using the above configuration\n",
        "sc = SparkContext(conf=conf)\n",
        "spark = SparkSession.builder.getOrCreate()"
      ],
      "execution_count": 5,
      "outputs": []
    },
    {
      "cell_type": "code",
      "metadata": {
        "id": "yK5yoGvIG9Z3",
        "colab_type": "code",
        "colab": {
          "base_uri": "https://localhost:8080/",
          "height": 217
        },
        "outputId": "ff9493ed-6104-4453-9127-366119638bad"
      },
      "source": [
        "spark"
      ],
      "execution_count": 6,
      "outputs": [
        {
          "output_type": "execute_result",
          "data": {
            "text/html": [
              "\n",
              "            <div>\n",
              "                <p><b>SparkSession - in-memory</b></p>\n",
              "                \n",
              "        <div>\n",
              "            <p><b>SparkContext</b></p>\n",
              "\n",
              "            <p><a href=\"http://0225f80b5def:4040\">Spark UI</a></p>\n",
              "\n",
              "            <dl>\n",
              "              <dt>Version</dt>\n",
              "                <dd><code>v3.0.1</code></dd>\n",
              "              <dt>Master</dt>\n",
              "                <dd><code>local</code></dd>\n",
              "              <dt>AppName</dt>\n",
              "                <dd><code>Recommender_System</code></dd>\n",
              "            </dl>\n",
              "        </div>\n",
              "        \n",
              "            </div>\n",
              "        "
            ],
            "text/plain": [
              "<pyspark.sql.session.SparkSession at 0x7fa09a9ba630>"
            ]
          },
          "metadata": {
            "tags": []
          },
          "execution_count": 6
        }
      ]
    },
    {
      "cell_type": "code",
      "metadata": {
        "id": "QJFktHttG_NF",
        "colab_type": "code",
        "colab": {
          "base_uri": "https://localhost:8080/",
          "height": 263
        },
        "outputId": "77a899b4-0857-42fb-d025-cc88ca7e3cef"
      },
      "source": [
        "# this command shows the current configuration settings\n",
        "sc._conf.getAll()"
      ],
      "execution_count": 7,
      "outputs": [
        {
          "output_type": "execute_result",
          "data": {
            "text/plain": [
              "[('spark.master', 'local'),\n",
              " ('spark.driver.host', '0225f80b5def'),\n",
              " ('spark.driver.memory', '16G'),\n",
              " ('spark.executor.id', 'driver'),\n",
              " ('spark.driver.port', '33955'),\n",
              " ('spark.app.id', 'local-1599587121900'),\n",
              " ('spark.executor.memory', '16G'),\n",
              " ('spark.rdd.compress', 'True'),\n",
              " ('spark.serializer.objectStreamReset', '100'),\n",
              " ('spark.submit.pyFiles', ''),\n",
              " ('spark.app.name', 'Recommender_System'),\n",
              " ('spark.submit.deployMode', 'client'),\n",
              " ('spark.executor.cores', '8'),\n",
              " ('spark.ui.showConsoleProgress', 'true')]"
            ]
          },
          "metadata": {
            "tags": []
          },
          "execution_count": 7
        }
      ]
    },
    {
      "cell_type": "markdown",
      "metadata": {
        "id": "NifL4yD2HDEX",
        "colab_type": "text"
      },
      "source": [
        "load the dataset"
      ]
    },
    {
      "cell_type": "code",
      "metadata": {
        "id": "MFZCLAO2HE75",
        "colab_type": "code",
        "colab": {}
      },
      "source": [
        "# read in the dataset from google drive\n",
        "rating = spark.read.load(\"/content/drive/My Drive/ratings.csv\", \n",
        "                         format=\"csv\", \n",
        "                         inferSchema=\"true\", \n",
        "                         header=\"true\"\n",
        "                         )"
      ],
      "execution_count": 24,
      "outputs": []
    },
    {
      "cell_type": "code",
      "metadata": {
        "id": "TNlUqbFIHQdD",
        "colab_type": "code",
        "colab": {
          "base_uri": "https://localhost:8080/",
          "height": 34
        },
        "outputId": "d2eaada0-5aae-463e-df5b-7115e871a5be"
      },
      "source": [
        "# number of rows in the dataset\n",
        "rating.count()"
      ],
      "execution_count": 25,
      "outputs": [
        {
          "output_type": "execute_result",
          "data": {
            "text/plain": [
              "981756"
            ]
          },
          "metadata": {
            "tags": []
          },
          "execution_count": 25
        }
      ]
    },
    {
      "cell_type": "code",
      "metadata": {
        "id": "S9WYAZbvHUgK",
        "colab_type": "code",
        "colab": {
          "base_uri": "https://localhost:8080/",
          "height": 474
        },
        "outputId": "9f6fa7f7-d315-4678-e370-e75f50575683"
      },
      "source": [
        "rating.show()"
      ],
      "execution_count": 26,
      "outputs": [
        {
          "output_type": "stream",
          "text": [
            "+-----+-----+------+\n",
            "|books|users|rating|\n",
            "+-----+-----+------+\n",
            "|    1|  314|     5|\n",
            "|    1|  439|     3|\n",
            "|    1|  588|     5|\n",
            "|    1| 1169|     4|\n",
            "|    1| 1185|     4|\n",
            "|    1| 2077|     4|\n",
            "|    1| 2487|     4|\n",
            "|    1| 2900|     5|\n",
            "|    1| 3662|     4|\n",
            "|    1| 3922|     5|\n",
            "|    1| 5379|     5|\n",
            "|    1| 5461|     3|\n",
            "|    1| 5885|     5|\n",
            "|    1| 6630|     5|\n",
            "|    1| 7563|     3|\n",
            "|    1| 9246|     1|\n",
            "|    1|10140|     4|\n",
            "|    1|10146|     5|\n",
            "|    1|10246|     4|\n",
            "|    1|10335|     4|\n",
            "+-----+-----+------+\n",
            "only showing top 20 rows\n",
            "\n"
          ],
          "name": "stdout"
        }
      ]
    },
    {
      "cell_type": "markdown",
      "metadata": {
        "id": "1snmMjh44EUu",
        "colab_type": "text"
      },
      "source": [
        "# **Data Exploration**\n",
        "\n",
        "Let's investigate the data and try to find and make some observations by looking at summary statistics"
      ]
    },
    {
      "cell_type": "code",
      "metadata": {
        "id": "6DFhxDv33vif",
        "colab_type": "code",
        "colab": {
          "base_uri": "https://localhost:8080/",
          "height": 52
        },
        "outputId": "d09fe28d-bd02-4eb9-b4b3-13de7c953939"
      },
      "source": [
        "print ('Distinct values of ratings:')\n",
        "print (rating.select('rating').distinct().rdd.map(lambda r: r[0]).collect())"
      ],
      "execution_count": 28,
      "outputs": [
        {
          "output_type": "stream",
          "text": [
            "Distinct values of ratings:\n",
            "[1, 3, 5, 4, 2]\n"
          ],
          "name": "stdout"
        }
      ]
    },
    {
      "cell_type": "code",
      "metadata": {
        "id": "aqn3Ad9y3wSO",
        "colab_type": "code",
        "colab": {
          "base_uri": "https://localhost:8080/",
          "height": 70
        },
        "outputId": "0a402d4a-145c-4b6e-f371-ee79f3555572"
      },
      "source": [
        "tmp1 = rating.groupBy(\"users\").count().select('count').rdd.min()[0]\n",
        "tmp2 = rating.groupBy(\"books\").count().select('count').rdd.min()[0]\n",
        "print ('For the users that rated books and the books that were rated:')\n",
        "print ('Minimum number of ratings per User is {}'.format(tmp1))\n",
        "print ('Minimum number of ratings per book is {}'.format(tmp2))"
      ],
      "execution_count": 30,
      "outputs": [
        {
          "output_type": "stream",
          "text": [
            "For the users that rated books and the books that were rated:\n",
            "Minimum number of ratings per User is 2\n",
            "Minimum number of ratings per book is 8\n"
          ],
          "name": "stdout"
        }
      ]
    },
    {
      "cell_type": "code",
      "metadata": {
        "id": "hebeR5DN3w5j",
        "colab_type": "code",
        "colab": {
          "base_uri": "https://localhost:8080/",
          "height": 34
        },
        "outputId": "82ebda81-2ede-4a58-b246-e85a61220701"
      },
      "source": [
        "tmp1 = rating.groupBy(\"books\").count().withColumnRenamed(\"count\", \"rating count\")\\\n",
        ".groupBy(\"rating count\").count().orderBy('rating count').first()[1]\n",
        "tmp2 = rating.select('books').distinct().count()\n",
        "print ('{} out of {} books are rated by only one user'.format(tmp1, tmp2))"
      ],
      "execution_count": 33,
      "outputs": [
        {
          "output_type": "stream",
          "text": [
            "1 out of 10000 books are rated by only one user\n"
          ],
          "name": "stdout"
        }
      ]
    },
    {
      "cell_type": "code",
      "metadata": {
        "id": "_Keh_k-n3v-h",
        "colab_type": "code",
        "colab": {
          "base_uri": "https://localhost:8080/",
          "height": 52
        },
        "outputId": "531536cd-850f-4e43-92d2-4479304a689a"
      },
      "source": [
        "print (\"Number of users who rated books:\", rating.select('users').distinct().count())\n",
        "print (\"Number of rated books:\", rating.select('books').distinct().count())"
      ],
      "execution_count": 34,
      "outputs": [
        {
          "output_type": "stream",
          "text": [
            "Number of users who rated books: 53424\n",
            "Number of rated books: 10000\n"
          ],
          "name": "stdout"
        }
      ]
    },
    {
      "cell_type": "markdown",
      "metadata": {
        "id": "rPYlR-h65jtc",
        "colab_type": "text"
      },
      "source": [
        "# **Summary of Descriptive Statistics**"
      ]
    },
    {
      "cell_type": "code",
      "metadata": {
        "id": "wrkS-43h3vO_",
        "colab_type": "code",
        "colab": {
          "base_uri": "https://localhost:8080/",
          "height": 195
        },
        "outputId": "33b7da72-d1bf-4bd2-de78-5e46798af858"
      },
      "source": [
        "rating.describe().toPandas()"
      ],
      "execution_count": 36,
      "outputs": [
        {
          "output_type": "execute_result",
          "data": {
            "text/html": [
              "<div>\n",
              "<style scoped>\n",
              "    .dataframe tbody tr th:only-of-type {\n",
              "        vertical-align: middle;\n",
              "    }\n",
              "\n",
              "    .dataframe tbody tr th {\n",
              "        vertical-align: top;\n",
              "    }\n",
              "\n",
              "    .dataframe thead th {\n",
              "        text-align: right;\n",
              "    }\n",
              "</style>\n",
              "<table border=\"1\" class=\"dataframe\">\n",
              "  <thead>\n",
              "    <tr style=\"text-align: right;\">\n",
              "      <th></th>\n",
              "      <th>summary</th>\n",
              "      <th>books</th>\n",
              "      <th>users</th>\n",
              "      <th>rating</th>\n",
              "    </tr>\n",
              "  </thead>\n",
              "  <tbody>\n",
              "    <tr>\n",
              "      <th>0</th>\n",
              "      <td>count</td>\n",
              "      <td>981756</td>\n",
              "      <td>981756</td>\n",
              "      <td>981756</td>\n",
              "    </tr>\n",
              "    <tr>\n",
              "      <th>1</th>\n",
              "      <td>mean</td>\n",
              "      <td>4943.275635697668</td>\n",
              "      <td>25616.759933221696</td>\n",
              "      <td>3.8565335989797873</td>\n",
              "    </tr>\n",
              "    <tr>\n",
              "      <th>2</th>\n",
              "      <td>stddev</td>\n",
              "      <td>2873.207414896197</td>\n",
              "      <td>15228.33882588251</td>\n",
              "      <td>0.9839408559620116</td>\n",
              "    </tr>\n",
              "    <tr>\n",
              "      <th>3</th>\n",
              "      <td>min</td>\n",
              "      <td>1</td>\n",
              "      <td>1</td>\n",
              "      <td>1</td>\n",
              "    </tr>\n",
              "    <tr>\n",
              "      <th>4</th>\n",
              "      <td>max</td>\n",
              "      <td>10000</td>\n",
              "      <td>53424</td>\n",
              "      <td>5</td>\n",
              "    </tr>\n",
              "  </tbody>\n",
              "</table>\n",
              "</div>"
            ],
            "text/plain": [
              "  summary              books               users              rating\n",
              "0   count             981756              981756              981756\n",
              "1    mean  4943.275635697668  25616.759933221696  3.8565335989797873\n",
              "2  stddev  2873.207414896197   15228.33882588251  0.9839408559620116\n",
              "3     min                  1                   1                   1\n",
              "4     max              10000               53424                   5"
            ]
          },
          "metadata": {
            "tags": []
          },
          "execution_count": 36
        }
      ]
    },
    {
      "cell_type": "markdown",
      "metadata": {
        "id": "MHnjywbl58Dh",
        "colab_type": "text"
      },
      "source": [
        "Converting Spark data to well-known Pandas could be done easily with toPandas() method:"
      ]
    },
    {
      "cell_type": "code",
      "metadata": {
        "id": "KIUCD5815t-3",
        "colab_type": "code",
        "colab": {}
      },
      "source": [
        "# To access plotting libraries, we need to first transform our PySpark DataFrame into a Pandas DataFrame\n",
        "Ratings_pdf = rating.toPandas() "
      ],
      "execution_count": 37,
      "outputs": []
    },
    {
      "cell_type": "code",
      "metadata": {
        "id": "NJfGt4to5esO",
        "colab_type": "code",
        "colab": {
          "base_uri": "https://localhost:8080/",
          "height": 369
        },
        "outputId": "0861bbc9-6569-41dc-e92d-438ede408a7d"
      },
      "source": [
        "with sns.axes_style('white'):\n",
        "    g = sns.catplot(\"rating\",\n",
        "                data=Ratings_pdf,\n",
        "               kind=\"count\", aspect=2,color='steelblue')"
      ],
      "execution_count": 39,
      "outputs": [
        {
          "output_type": "display_data",
          "data": {
            "image/png": "[encoded data removed]",
            "text/plain": [
              "<Figure size 720x360 with 1 Axes>"
            ]
          },
          "metadata": {
            "tags": []
          }
        }
      ]
    },
    {
      "cell_type": "markdown",
      "metadata": {
        "id": "hUQN6CzJ6duI",
        "colab_type": "text"
      },
      "source": [
        "# **Splitting the dataset into Train and Test**\n",
        "\n",
        "I will split the data into training/testing sets using a 70/30 random splits.\n",
        "This is done to Train the model on train set and finally evaluate the model post predicting on the test set"
      ]
    },
    {
      "cell_type": "code",
      "metadata": {
        "id": "r4aNo5ueKjH9",
        "colab_type": "code",
        "colab": {
          "base_uri": "https://localhost:8080/",
          "height": 34
        },
        "outputId": "073035f8-3ec3-46c7-ce71-a8d175ef8220"
      },
      "source": [
        "data = rating.select(\"books\", \"users\", \"rating\")\n",
        "\n",
        "#divide data, 70% for training and 30% for testing\n",
        "splits = data.randomSplit([0.7, 0.3])\n",
        "train = splits[0].withColumnRenamed(\"rating\", \"label\")\n",
        "test = splits[1].withColumnRenamed(\"rating\", \"trueLabel\")\n",
        "\n",
        "#calculate number of rows\n",
        "train_rows = train.count()\n",
        "test_rows = test.count()\n",
        "print (\"number of training data rows:\", train_rows, \n",
        "       \", number of testing data rows:\", test_rows)"
      ],
      "execution_count": 40,
      "outputs": [
        {
          "output_type": "stream",
          "text": [
            "number of training data rows: 686866 , number of testing data rows: 294890\n"
          ],
          "name": "stdout"
        }
      ]
    },
    {
      "cell_type": "markdown",
      "metadata": {
        "id": "jBrcNvfMLm1p",
        "colab_type": "text"
      },
      "source": [
        "ALS"
      ]
    },
    {
      "cell_type": "code",
      "metadata": {
        "id": "ncI7asBaLG2n",
        "colab_type": "code",
        "colab": {
          "base_uri": "https://localhost:8080/",
          "height": 34
        },
        "outputId": "e99ba142-6704-4fb5-da2a-6744dbc65b7e"
      },
      "source": [
        "from pyspark.ml.recommendation import ALS\n",
        "als = ALS(maxIter=19, regParam=0.01, userCol=\"books\", \n",
        "          itemCol=\"users\", ratingCol=\"label\")\n",
        "\n",
        "#train our ALS model\n",
        "model = als.fit(train)\n",
        "print(\"Training is doneon the model\")"
      ],
      "execution_count": null,
      "outputs": [
        {
          "output_type": "stream",
          "text": [
            "Training is doneon the model\n"
          ],
          "name": "stdout"
        }
      ]
    },
    {
      "cell_type": "markdown",
      "metadata": {
        "id": "Ap3cgVpSMa5N",
        "colab_type": "text"
      },
      "source": [
        "pred on test data"
      ]
    },
    {
      "cell_type": "code",
      "metadata": {
        "id": "KnpBmqXnLrvS",
        "colab_type": "code",
        "colab": {
          "base_uri": "https://localhost:8080/",
          "height": 34
        },
        "outputId": "29b44959-752e-4079-e3a4-dd4752ed4b55"
      },
      "source": [
        "prediction = model.transform(test)\n",
        "print(\"testing is done on the model\")"
      ],
      "execution_count": null,
      "outputs": [
        {
          "output_type": "stream",
          "text": [
            "testing is done on the model\n"
          ],
          "name": "stdout"
        }
      ]
    },
    {
      "cell_type": "code",
      "metadata": {
        "id": "_k2yAzMnM-pt",
        "colab_type": "code",
        "colab": {
          "base_uri": "https://localhost:8080/",
          "height": 454
        },
        "outputId": "e417fdf0-fcb9-4404-8b59-e1e4f51c6899"
      },
      "source": [
        "prediction.show()"
      ],
      "execution_count": null,
      "outputs": [
        {
          "output_type": "stream",
          "text": [
            "+-----+-----+---------+----------+\n",
            "|books|users|trueLabel|prediction|\n",
            "+-----+-----+---------+----------+\n",
            "| 3435|  148|        3| 3.9737463|\n",
            "| 5307|  148|        3| 2.5299137|\n",
            "| 9077|  148|        3| 3.4599788|\n",
            "| 7944|  148|        4|   4.25571|\n",
            "| 7914|  148|        4| 3.8396463|\n",
            "| 8679|  148|        4|  4.071889|\n",
            "| 5407|  148|        4|  3.025085|\n",
            "| 9837|  148|        3| 3.0923884|\n",
            "| 3267|  148|        3| 3.5229692|\n",
            "| 8968|  148|        4| 3.4324741|\n",
            "| 8059|  148|        4|  3.507866|\n",
            "| 7154|  148|        4| 4.1739225|\n",
            "| 3961|  148|        4| 4.4313064|\n",
            "| 2700|  148|        4| 3.6817708|\n",
            "| 3345|  148|        4| 4.7206993|\n",
            "| 7599|  463|        2| 2.5301554|\n",
            "| 5327|  463|        4| 4.4965205|\n",
            "| 1315|  463|        3| 4.6550274|\n",
            "| 4586|  463|        3|   4.47713|\n",
            "| 8822|  496|        4| 3.4542215|\n",
            "+-----+-----+---------+----------+\n",
            "only showing top 20 rows\n",
            "\n"
          ],
          "name": "stdout"
        }
      ]
    },
    {
      "cell_type": "code",
      "metadata": {
        "id": "odF9YQ9cOFn9",
        "colab_type": "code",
        "colab": {
          "base_uri": "https://localhost:8080/",
          "height": 34
        },
        "outputId": "07321f9b-c708-4c8e-9936-73188947a895"
      },
      "source": [
        "from pyspark.ml.evaluation import RegressionEvaluator\n",
        "\n",
        "evaluator = RegressionEvaluator(\n",
        "    labelCol=\"trueLabel\", predictionCol=\"prediction\", metricName=\"rmse\")\n",
        "rmse = evaluator.evaluate(prediction)\n",
        "print (\"Root Mean Square Error (RMSE):\", rmse)"
      ],
      "execution_count": null,
      "outputs": [
        {
          "output_type": "stream",
          "text": [
            "Root Mean Square Error (RMSE): nan\n"
          ],
          "name": "stdout"
        }
      ]
    },
    {
      "cell_type": "code",
      "metadata": {
        "id": "gXMbuEjJPJDw",
        "colab_type": "code",
        "colab": {
          "base_uri": "https://localhost:8080/",
          "height": 67
        },
        "outputId": "0766b909-53b9-434e-bb39-8ffdc389e18a"
      },
      "source": [
        "\n",
        "prediction.count()\n",
        "a = prediction.count()\n",
        "print(\"number of original data rows: \", a)\n",
        "#drop rows with any missing data\n",
        "cleanPred = prediction.dropna(how=\"any\", subset=[\"prediction\"])\n",
        "b = cleanPred.count()\n",
        "print(\"number of rows after dropping data with missing value: \", b)\n",
        "print(\"number of missing data: \", a-b)"
      ],
      "execution_count": null,
      "outputs": [
        {
          "output_type": "stream",
          "text": [
            "number of original data rows:  295183\n",
            "number of rows after dropping data with missing value:  293022\n",
            "number of missing data:  2161\n"
          ],
          "name": "stdout"
        }
      ]
    },
    {
      "cell_type": "code",
      "metadata": {
        "id": "d65eQT3gPbAs",
        "colab_type": "code",
        "colab": {
          "base_uri": "https://localhost:8080/",
          "height": 34
        },
        "outputId": "ed9e0055-5aa2-4edb-d629-6d9476ad7926"
      },
      "source": [
        "rmse = evaluator.evaluate(cleanPred)\n",
        "print (\"Root Mean Square Error (RMSE):\", rmse)"
      ],
      "execution_count": null,
      "outputs": [
        {
          "output_type": "stream",
          "text": [
            "Root Mean Square Error (RMSE): 1.3139328571810402\n"
          ],
          "name": "stdout"
        }
      ]
    },
    {
      "cell_type": "code",
      "metadata": {
        "id": "Nn2ioO8tPpMi",
        "colab_type": "code",
        "colab": {
          "base_uri": "https://localhost:8080/",
          "height": 34
        },
        "outputId": "8255cef1-a174-4e5c-b98a-dcb0da514196"
      },
      "source": [
        "from pyspark.ml.tuning import ParamGridBuilder, CrossValidator\n",
        "param_grid = ParamGridBuilder() \\\n",
        " .addGrid(als.rank, [10, 50, 75, 100]) \\\n",
        " .addGrid(als.maxIter, [5, 50, 75, 100]) \\\n",
        " .addGrid(als.regParam, [.01, .05, .1, .15]) \\\n",
        " .build()\n",
        "# Define evaluator as RMSE\n",
        "evaluator = RegressionEvaluator(\n",
        "    labelCol=\"trueLabel\", predictionCol=\"prediction\", metricName=\"rmse\")\n",
        "# Print length of evaluator\n",
        "print (\"Num models to be tested using param_grid: \", len(param_grid))"
      ],
      "execution_count": null,
      "outputs": [
        {
          "output_type": "stream",
          "text": [
            "Num models to be tested using param_grid:  64\n"
          ],
          "name": "stdout"
        }
      ]
    },
    {
      "cell_type": "code",
      "metadata": {
        "id": "obIvMvM_SaC8",
        "colab_type": "code",
        "colab": {
          "base_uri": "https://localhost:8080/",
          "height": 286
        },
        "outputId": "1b5d562e-5826-495e-feae-1bcc9f6f8dac"
      },
      "source": [
        "cv = CrossValidator(estimator = als, \n",
        " estimatorParamMaps = param_grid, \n",
        " evaluator = evaluator, \n",
        " numFolds = 5)\n",
        "model = als.fit(train)\n",
        "predictions = model.transform(test)\n",
        "predictions.show(n = 10)"
      ],
      "execution_count": null,
      "outputs": [
        {
          "output_type": "stream",
          "text": [
            "+-----+-----+---------+----------+\n",
            "|books|users|trueLabel|prediction|\n",
            "+-----+-----+---------+----------+\n",
            "| 3435|  148|        3| 3.9737463|\n",
            "| 5307|  148|        3| 2.5299137|\n",
            "| 9077|  148|        3| 3.4599788|\n",
            "| 7944|  148|        4|   4.25571|\n",
            "| 7914|  148|        4| 3.8396463|\n",
            "| 8679|  148|        4|  4.071889|\n",
            "| 5407|  148|        4|  3.025085|\n",
            "| 9837|  148|        3| 3.0923884|\n",
            "| 3267|  148|        3| 3.5229692|\n",
            "| 8968|  148|        4| 3.4324741|\n",
            "+-----+-----+---------+----------+\n",
            "only showing top 10 rows\n",
            "\n"
          ],
          "name": "stdout"
        }
      ]
    },
    {
      "cell_type": "markdown",
      "metadata": {
        "id": "vrml-tmiTRYp",
        "colab_type": "text"
      },
      "source": [
        "Reco for all users"
      ]
    },
    {
      "cell_type": "code",
      "metadata": {
        "id": "2M8eAqRdS7bk",
        "colab_type": "code",
        "colab": {}
      },
      "source": [
        "\n",
        "ALS_recommendations = model.recommendForAllUsers(numItems = 10) "
      ],
      "execution_count": null,
      "outputs": []
    },
    {
      "cell_type": "code",
      "metadata": {
        "id": "2wHLhbPcTWqG",
        "colab_type": "code",
        "colab": {
          "base_uri": "https://localhost:8080/",
          "height": 454
        },
        "outputId": "72de4088-b032-4fdf-d57c-5a1bcc31df9d"
      },
      "source": [
        "ALS_recommendations.show()"
      ],
      "execution_count": null,
      "outputs": [
        {
          "output_type": "stream",
          "text": [
            "+-----+--------------------+\n",
            "|books|     recommendations|\n",
            "+-----+--------------------+\n",
            "| 1580|[[52094, 7.558549...|\n",
            "| 4900|[[41472, 8.907330...|\n",
            "| 5300|[[18335, 6.807567...|\n",
            "| 6620|[[23176, 9.188845...|\n",
            "| 7240|[[24753, 7.729779...|\n",
            "| 7340|[[24835, 7.295790...|\n",
            "| 7880|[[17891, 7.354595...|\n",
            "| 9900|[[44321, 6.535833...|\n",
            "|  471|[[4923, 6.524211]...|\n",
            "| 1591|[[51935, 6.665852...|\n",
            "| 4101|[[46161, 8.302257...|\n",
            "| 1342|[[41472, 7.678193...|\n",
            "| 2122|[[6903, 7.044908]...|\n",
            "| 2142|[[44141, 8.318434...|\n",
            "| 7982|[[41728, 7.418365...|\n",
            "| 8592|[[39287, 7.345355...|\n",
            "| 9852|[[2929, 6.9944334...|\n",
            "|  463|[[41085, 8.199598...|\n",
            "|  833|[[20770, 6.357651...|\n",
            "| 5803|[[24663, 7.045941...|\n",
            "+-----+--------------------+\n",
            "only showing top 20 rows\n",
            "\n"
          ],
          "name": "stdout"
        }
      ]
    },
    {
      "cell_type": "code",
      "metadata": {
        "id": "YaYeABHUTbxW",
        "colab_type": "code",
        "colab": {}
      },
      "source": [
        ""
      ],
      "execution_count": null,
      "outputs": []
    }
  ]
}